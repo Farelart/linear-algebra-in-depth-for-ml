{
 "cells": [
  {
   "cell_type": "code",
   "execution_count": 1,
   "id": "dd5273d9-243b-48fe-b14d-500c4c5c893d",
   "metadata": {},
   "outputs": [],
   "source": [
    "import numpy as np"
   ]
  },
  {
   "cell_type": "code",
   "execution_count": 2,
   "id": "3164c82a-b068-47b9-b52d-0a1415cee3f4",
   "metadata": {},
   "outputs": [
    {
     "name": "stdout",
     "output_type": "stream",
     "text": [
      "[10 12]\n"
     ]
    }
   ],
   "source": [
    "one_dimensional_array = np.array([10,12])\n",
    "print(one_dimensional_array)"
   ]
  },
  {
   "cell_type": "code",
   "execution_count": 3,
   "id": "7c69926e-7cd4-4ab2-b589-393cab35b8c5",
   "metadata": {},
   "outputs": [
    {
     "name": "stdout",
     "output_type": "stream",
     "text": [
      "[0 1 2]\n"
     ]
    }
   ],
   "source": [
    "b = np.arange(3)\n",
    "print(b)"
   ]
  },
  {
   "cell_type": "code",
   "execution_count": 8,
   "id": "9eeb9cce-c45a-4e60-a9a4-679276c06500",
   "metadata": {},
   "outputs": [
    {
     "name": "stdout",
     "output_type": "stream",
     "text": [
      "[ 0  3  6  9 12 15 18]\n"
     ]
    }
   ],
   "source": [
    "c = np.arange(0, 20, 3)\n",
    "print(c)"
   ]
  },
  {
   "cell_type": "code",
   "execution_count": 12,
   "id": "4a0f49da-b848-4b22-b620-be578da20cad",
   "metadata": {},
   "outputs": [
    {
     "name": "stdout",
     "output_type": "stream",
     "text": [
      "[ 0. 10. 20.]\n"
     ]
    }
   ],
   "source": [
    "lin_spaced_arr = np.linspace(0, 20, 3)\n",
    "print(lin_spaced_arr)"
   ]
  },
  {
   "cell_type": "code",
   "execution_count": 13,
   "id": "b2a9abe8-d222-4491-a1ff-080865332949",
   "metadata": {},
   "outputs": [
    {
     "name": "stdout",
     "output_type": "stream",
     "text": [
      "[  0  25  50  75 100]\n"
     ]
    }
   ],
   "source": [
    "lin_spaced_arr_int = np.linspace(0, 100, 5, dtype=int)\n",
    "print(lin_spaced_arr_int)"
   ]
  },
  {
   "cell_type": "code",
   "execution_count": 15,
   "id": "1737379e-96ee-42b5-a443-136d6d586ff1",
   "metadata": {},
   "outputs": [
    {
     "name": "stdout",
     "output_type": "stream",
     "text": [
      "['Welcome to Math for ML!']\n",
      "<U23\n"
     ]
    }
   ],
   "source": [
    "char_arr = np.array(['Welcome to Math for ML!'])\n",
    "print(char_arr)\n",
    "print(char_arr.dtype)"
   ]
  },
  {
   "cell_type": "code",
   "execution_count": 16,
   "id": "a02a0f4b-6c57-436c-b02a-b92207cd9075",
   "metadata": {},
   "outputs": [
    {
     "name": "stdout",
     "output_type": "stream",
     "text": [
      "[1. 1. 1. 1.]\n"
     ]
    }
   ],
   "source": [
    "ones_arr = np.ones(4)\n",
    "print(ones_arr)"
   ]
  },
  {
   "cell_type": "code",
   "execution_count": 17,
   "id": "125b5c12-acd8-4aeb-9b02-4e46ce6b9287",
   "metadata": {},
   "outputs": [
    {
     "name": "stdout",
     "output_type": "stream",
     "text": [
      "[0. 0. 0.]\n"
     ]
    }
   ],
   "source": [
    "zeros_arr = np.zeros(3)\n",
    "print(zeros_arr)"
   ]
  },
  {
   "cell_type": "code",
   "execution_count": 18,
   "id": "95d6b065-beb7-49dd-b176-39cb0d311ae4",
   "metadata": {},
   "outputs": [
    {
     "name": "stdout",
     "output_type": "stream",
     "text": [
      "[0. 0. 0.]\n"
     ]
    }
   ],
   "source": [
    "empty_arr = np.empty(3)\n",
    "print(empty_arr)"
   ]
  },
  {
   "cell_type": "code",
   "execution_count": 28,
   "id": "ff7fa854-807e-48eb-855a-6becdc7ba5b3",
   "metadata": {},
   "outputs": [
    {
     "name": "stdout",
     "output_type": "stream",
     "text": [
      "[0.91798048 0.3518959  0.56897513]\n"
     ]
    }
   ],
   "source": [
    "rand_arr = np.random.rand(3)\n",
    "print(rand_arr)"
   ]
  },
  {
   "cell_type": "code",
   "execution_count": 29,
   "id": "6178e565-b6cc-4ff5-bb2c-8924d424f665",
   "metadata": {},
   "outputs": [
    {
     "name": "stdout",
     "output_type": "stream",
     "text": [
      "89\n"
     ]
    }
   ],
   "source": [
    "rand_int = np.random.randint(100)\n",
    "print(rand_int)"
   ]
  },
  {
   "cell_type": "code",
   "execution_count": 30,
   "id": "138f0219-2341-434c-afff-690d128fc10a",
   "metadata": {},
   "outputs": [
    {
     "name": "stdout",
     "output_type": "stream",
     "text": [
      "[39 87 46  2 62]\n"
     ]
    }
   ],
   "source": [
    "rand_arr_int = np.random.randint(0, 100, 5)\n",
    "print(rand_arr_int)"
   ]
  },
  {
   "cell_type": "markdown",
   "id": "b5dcae0c-8118-4e19-bd49-451a83e95f29",
   "metadata": {},
   "source": [
    "## Multidimensional arrays"
   ]
  },
  {
   "cell_type": "code",
   "execution_count": 32,
   "id": "b48799aa-63ea-4ef8-a18d-59f8ae567a4e",
   "metadata": {},
   "outputs": [
    {
     "name": "stdout",
     "output_type": "stream",
     "text": [
      "[[1 2 3]\n",
      " [4 5 6]]\n"
     ]
    }
   ],
   "source": [
    "two_dim_arr = np.array([[1,2,3], [4,5,6]])\n",
    "print(two_dim_arr)"
   ]
  },
  {
   "cell_type": "code",
   "execution_count": 34,
   "id": "fe6aba20-cb49-4dff-a732-f431cf177cb2",
   "metadata": {},
   "outputs": [
    {
     "name": "stdout",
     "output_type": "stream",
     "text": [
      "[[1 2 3]\n",
      " [4 5 6]]\n"
     ]
    }
   ],
   "source": [
    "# reshaping\n",
    "one_dim_arr = np.array([1, 2, 3, 4, 5, 6])\n",
    "\n",
    "multi_dim_arr = np.reshape(\n",
    "                one_dim_arr, # the array to be reshaped\n",
    "                (2,3) # dimensions of the new array\n",
    "            )\n",
    "print(multi_dim_arr)"
   ]
  },
  {
   "cell_type": "code",
   "execution_count": 35,
   "id": "01456933-e134-4556-b53f-874985a49cf1",
   "metadata": {},
   "outputs": [
    {
     "data": {
      "text/plain": [
       "2"
      ]
     },
     "execution_count": 35,
     "metadata": {},
     "output_type": "execute_result"
    }
   ],
   "source": [
    "multi_dim_arr.ndim"
   ]
  },
  {
   "cell_type": "code",
   "execution_count": 36,
   "id": "db863064-6099-462d-b1e6-9f59e825f92e",
   "metadata": {},
   "outputs": [
    {
     "data": {
      "text/plain": [
       "2"
      ]
     },
     "execution_count": 36,
     "metadata": {},
     "output_type": "execute_result"
    }
   ],
   "source": [
    "singular_matrix = np.array([[1,2,3], [2,4,6]])\n",
    "singular_matrix.ndim"
   ]
  },
  {
   "cell_type": "code",
   "execution_count": 37,
   "id": "8ebfd208-bcc9-4dd0-b9f1-b1dca3c6c1e7",
   "metadata": {},
   "outputs": [],
   "source": [
    "##### so it's just the number of rows"
   ]
  },
  {
   "cell_type": "code",
   "execution_count": 38,
   "id": "dc9decea-86e6-48b9-bb61-885ff10205ca",
   "metadata": {},
   "outputs": [
    {
     "data": {
      "text/plain": [
       "(2, 3)"
      ]
     },
     "execution_count": 38,
     "metadata": {},
     "output_type": "execute_result"
    }
   ],
   "source": [
    "multi_dim_arr.shape"
   ]
  },
  {
   "cell_type": "code",
   "execution_count": 39,
   "id": "112376c8-f012-475b-b236-234d2002981e",
   "metadata": {},
   "outputs": [
    {
     "data": {
      "text/plain": [
       "6"
      ]
     },
     "execution_count": 39,
     "metadata": {},
     "output_type": "execute_result"
    }
   ],
   "source": [
    "multi_dim_arr.size # Returns total number of elements"
   ]
  },
  {
   "cell_type": "markdown",
   "id": "77c51e66-1786-4fd1-8c62-cda6f1b7f310",
   "metadata": {},
   "source": [
    "## Array math operations"
   ]
  },
  {
   "cell_type": "code",
   "execution_count": 41,
   "id": "4fed3b8d-d0d6-40ea-ae74-431d8db61b18",
   "metadata": {},
   "outputs": [
    {
     "name": "stdout",
     "output_type": "stream",
     "text": [
      "addition: [ 3  7 11]\n",
      "substraction: [1 1 1]\n",
      "multiplication: [ 2 12 30]\n"
     ]
    }
   ],
   "source": [
    "arr_1 = np.array([2, 4, 6])\n",
    "arr_2 = np.array([1, 3, 5])\n",
    "\n",
    "addition = arr_1 + arr_2\n",
    "print(f'addition: {addition}')\n",
    "\n",
    "substraction = arr_1 - arr_2\n",
    "print(f'substraction: {substraction}')\n",
    "\n",
    "multiplication = arr_1 * arr_2\n",
    "print(f'multiplication: {multiplication}')"
   ]
  },
  {
   "cell_type": "code",
   "execution_count": 42,
   "id": "3aba6db6-9ebe-4f7d-8342-42a53adc1131",
   "metadata": {},
   "outputs": [
    {
     "data": {
      "text/plain": [
       "array([1.6, 3.2])"
      ]
     },
     "execution_count": 42,
     "metadata": {},
     "output_type": "execute_result"
    }
   ],
   "source": [
    "vector = np.array([1,2])\n",
    "vector * 1.6"
   ]
  },
  {
   "cell_type": "markdown",
   "id": "c5f7ef7c-42bd-4e41-aabb-1021c8088e90",
   "metadata": {},
   "source": [
    "## Indexing and slicing"
   ]
  },
  {
   "cell_type": "code",
   "execution_count": 50,
   "id": "6f2608fc-a012-4fb4-9f19-fb3b7811d4ec",
   "metadata": {},
   "outputs": [
    {
     "name": "stdout",
     "output_type": "stream",
     "text": [
      "3\n",
      "1\n"
     ]
    }
   ],
   "source": [
    "a = np.array([1, 2, 3, 4, 5])\n",
    "print(a[2])\n",
    "print(a[0])"
   ]
  },
  {
   "cell_type": "code",
   "execution_count": 51,
   "id": "498c9519-8035-489f-9732-26d116041762",
   "metadata": {},
   "outputs": [
    {
     "name": "stdout",
     "output_type": "stream",
     "text": [
      "8\n"
     ]
    }
   ],
   "source": [
    "two_dim = np.array(([1, 2, 3],\n",
    "                    [4, 5, 6],\n",
    "                    [7, 8, 9]))\n",
    "\n",
    "print(two_dim[2][1])"
   ]
  },
  {
   "cell_type": "code",
   "execution_count": 52,
   "id": "b2a49a59-ca0a-4009-b4ee-5e8384268080",
   "metadata": {},
   "outputs": [
    {
     "name": "stdout",
     "output_type": "stream",
     "text": [
      "[[1 2 3]\n",
      " [4 5 6]\n",
      " [7 8 9]]\n"
     ]
    }
   ],
   "source": [
    "two_dim = np.array([[1, 2, 3],\n",
    "                    [4, 5, 6],\n",
    "                    [7, 8, 9]])\n",
    "print(two_dim)"
   ]
  },
  {
   "cell_type": "code",
   "execution_count": 53,
   "id": "534bd5f5-42e2-4476-ac98-b31955068956",
   "metadata": {},
   "outputs": [
    {
     "name": "stdout",
     "output_type": "stream",
     "text": [
      "[[[1 2 3]\n",
      "  [4 5 6]\n",
      "  [7 8 9]]\n",
      "\n",
      " [[1 2 3]\n",
      "  [4 5 6]\n",
      "  [7 8 9]]\n",
      "\n",
      " [[1 2 3]\n",
      "  [4 5 6]\n",
      "  [7 8 9]]]\n"
     ]
    }
   ],
   "source": [
    "three_dim = np.array([[[1, 2, 3],\n",
    "                    [4, 5, 6],\n",
    "                    [7, 8, 9]],\n",
    "                    [[1, 2, 3],\n",
    "                    [4, 5, 6],\n",
    "                    [7, 8, 9]],\n",
    "                    [[1, 2, 3],\n",
    "                    [4, 5, 6],\n",
    "                    [7, 8, 9]]])\n",
    "print(three_dim)"
   ]
  },
  {
   "cell_type": "code",
   "execution_count": 54,
   "id": "b378e3bb-b7cf-49e0-9231-0f6c13aeee29",
   "metadata": {},
   "outputs": [],
   "source": [
    "a = np.array([1, 2, 3, 4, 5])"
   ]
  },
  {
   "cell_type": "code",
   "execution_count": 55,
   "id": "f9740a0a-b159-49a2-bae8-06920d8b6c3a",
   "metadata": {},
   "outputs": [
    {
     "name": "stdout",
     "output_type": "stream",
     "text": [
      "[2 3 4]\n"
     ]
    }
   ],
   "source": [
    "sliced_arr = a[1:4]\n",
    "print(sliced_arr)"
   ]
  },
  {
   "cell_type": "code",
   "execution_count": 56,
   "id": "a120bf2d-9dd9-4534-8a04-c72d8added4b",
   "metadata": {},
   "outputs": [
    {
     "name": "stdout",
     "output_type": "stream",
     "text": [
      "[1 2 3]\n"
     ]
    }
   ],
   "source": [
    "sliced_arr2 = a[:3]\n",
    "print(sliced_arr2)"
   ]
  },
  {
   "cell_type": "code",
   "execution_count": 57,
   "id": "59f5b71d-7e87-4042-842f-0bb1cb378d5c",
   "metadata": {},
   "outputs": [
    {
     "name": "stdout",
     "output_type": "stream",
     "text": [
      "[3 4 5]\n"
     ]
    }
   ],
   "source": [
    "sliced_arr3 = a[2:]\n",
    "print(sliced_arr3)"
   ]
  },
  {
   "cell_type": "code",
   "execution_count": 64,
   "id": "e04ae5ba-18ed-4d97-8cc8-7b0d5ff5c3ee",
   "metadata": {},
   "outputs": [
    {
     "name": "stdout",
     "output_type": "stream",
     "text": [
      "[1 3 5]\n"
     ]
    }
   ],
   "source": [
    "sliced_arr4 = a[::2]\n",
    "print(sliced_arr4)"
   ]
  },
  {
   "cell_type": "code",
   "execution_count": 61,
   "id": "f097d3d0-90be-4ee4-abde-add6d97b9980",
   "metadata": {},
   "outputs": [
    {
     "name": "stdout",
     "output_type": "stream",
     "text": [
      "True\n",
      "True\n",
      "True\n"
     ]
    }
   ],
   "source": [
    "# Note that a == a[:] == a[::]\n",
    "print(np.all(a == a[:]))\n",
    "print(np.all(a == a[::]))\n",
    "print(np.all(a[:] == a[::]))"
   ]
  },
  {
   "cell_type": "code",
   "execution_count": 65,
   "id": "7f6c79cf-ea81-462b-93de-8c3c0e796af4",
   "metadata": {},
   "outputs": [
    {
     "data": {
      "text/plain": [
       "array([[1, 2, 3],\n",
       "       [4, 5, 6]])"
      ]
     },
     "execution_count": 65,
     "metadata": {},
     "output_type": "execute_result"
    }
   ],
   "source": [
    "two_dim_sliced_arr1 = two_dim[0:2]\n",
    "two_dim_sliced_arr1"
   ]
  },
  {
   "cell_type": "code",
   "execution_count": 66,
   "id": "03996b83-16ec-405a-9ac5-07bbf8de495e",
   "metadata": {},
   "outputs": [
    {
     "data": {
      "text/plain": [
       "array([[4, 5, 6],\n",
       "       [7, 8, 9]])"
      ]
     },
     "execution_count": 66,
     "metadata": {},
     "output_type": "execute_result"
    }
   ],
   "source": [
    "two_dim_sliced_arr2 = two_dim[1:3]\n",
    "two_dim_sliced_arr2"
   ]
  },
  {
   "cell_type": "code",
   "execution_count": 67,
   "id": "11ac7196-3a36-45af-b8a4-02300677de85",
   "metadata": {},
   "outputs": [
    {
     "name": "stdout",
     "output_type": "stream",
     "text": [
      "[2 5 8]\n"
     ]
    }
   ],
   "source": [
    "two_dim_sliced_arr3 = two_dim[:,1]\n",
    "print(two_dim_sliced_arr3)"
   ]
  },
  {
   "cell_type": "code",
   "execution_count": 68,
   "id": "46449f9e-462d-40a3-abf7-4d2b0dad4cf3",
   "metadata": {},
   "outputs": [
    {
     "name": "stdout",
     "output_type": "stream",
     "text": [
      "[3 6 9]\n"
     ]
    }
   ],
   "source": [
    "two_dim_sliced_arr4 = two_dim[:,2]\n",
    "print(two_dim_sliced_arr4)"
   ]
  },
  {
   "cell_type": "code",
   "execution_count": 69,
   "id": "c644c63d-1b32-40df-98b0-404ae524ef5f",
   "metadata": {},
   "outputs": [
    {
     "name": "stdout",
     "output_type": "stream",
     "text": [
      "[4 5 6]\n"
     ]
    }
   ],
   "source": [
    "two_dim_sliced_arr5 = two_dim[1,:]\n",
    "print(two_dim_sliced_arr5)"
   ]
  },
  {
   "cell_type": "code",
   "execution_count": 70,
   "id": "5ed1eeaa-7d80-478a-adfb-4c2ea67b2e94",
   "metadata": {},
   "outputs": [
    {
     "name": "stdout",
     "output_type": "stream",
     "text": [
      "[4 5 6]\n"
     ]
    }
   ],
   "source": [
    "two_dim_sliced_arr6 = two_dim[1]\n",
    "print(two_dim_sliced_arr6)"
   ]
  },
  {
   "cell_type": "markdown",
   "id": "19875bdc-f7ba-4fc7-8247-2633be7cdf1d",
   "metadata": {},
   "source": [
    "## Stacking"
   ]
  },
  {
   "cell_type": "code",
   "execution_count": 71,
   "id": "2d939f60-fc03-4115-9ada-170947549006",
   "metadata": {},
   "outputs": [
    {
     "name": "stdout",
     "output_type": "stream",
     "text": [
      "a1:\n",
      "[[1 1]\n",
      " [2 2]]\n",
      "a2:\n",
      "[[3 3]\n",
      " [4 4]]\n"
     ]
    }
   ],
   "source": [
    "a1 = np.array([[1,1],\n",
    "               [2,2]])\n",
    "a2 = np.array([[3,3],\n",
    "               [4,4]])\n",
    "print(f'a1:\\n{a1}')\n",
    "print(f'a2:\\n{a2}')"
   ]
  },
  {
   "cell_type": "code",
   "execution_count": 72,
   "id": "bdaaa635-badd-4f4f-9a7d-b96c1bd8d1a3",
   "metadata": {},
   "outputs": [
    {
     "name": "stdout",
     "output_type": "stream",
     "text": [
      "[[1 1]\n",
      " [2 2]\n",
      " [3 3]\n",
      " [4 4]]\n"
     ]
    }
   ],
   "source": [
    "# Stacking the arrays vertically\n",
    "vert_stack = np.vstack((a1, a2))\n",
    "print(vert_stack)"
   ]
  },
  {
   "cell_type": "code",
   "execution_count": 73,
   "id": "e4b14c95-7717-410a-9753-1631857a0b45",
   "metadata": {},
   "outputs": [
    {
     "name": "stdout",
     "output_type": "stream",
     "text": [
      "[[1 1 3 3]\n",
      " [2 2 4 4]]\n"
     ]
    }
   ],
   "source": [
    "# Stacking the arrays horizontally\n",
    "horz_stack = np.hstack((a1, a2))\n",
    "print(horz_stack)"
   ]
  },
  {
   "cell_type": "code",
   "execution_count": 74,
   "id": "76c5ede0-81c5-4ac1-a684-4b1b07257dba",
   "metadata": {},
   "outputs": [
    {
     "data": {
      "text/plain": [
       "(2, 4)"
      ]
     },
     "execution_count": 74,
     "metadata": {},
     "output_type": "execute_result"
    }
   ],
   "source": [
    "horz_stack.shape"
   ]
  },
  {
   "cell_type": "code",
   "execution_count": null,
   "id": "9b98c672-3dc0-4a2d-ab4e-5e31b7e5747c",
   "metadata": {},
   "outputs": [],
   "source": []
  }
 ],
 "metadata": {
  "kernelspec": {
   "display_name": "Python 3 (ipykernel)",
   "language": "python",
   "name": "python3"
  },
  "language_info": {
   "codemirror_mode": {
    "name": "ipython",
    "version": 3
   },
   "file_extension": ".py",
   "mimetype": "text/x-python",
   "name": "python",
   "nbconvert_exporter": "python",
   "pygments_lexer": "ipython3",
   "version": "3.11.4"
  }
 },
 "nbformat": 4,
 "nbformat_minor": 5
}
